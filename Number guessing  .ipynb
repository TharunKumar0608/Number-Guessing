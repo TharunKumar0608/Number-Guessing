{
 "cells": [
  {
   "cell_type": "code",
   "execution_count": null,
   "id": "2540e94c",
   "metadata": {},
   "outputs": [
    {
     "name": "stdout",
     "output_type": "stream",
     "text": [
      "Enter the lower bound of the range: 1\n",
      "Enter the upper bound of the range: 20\n",
      "Guess a number between 1 and 20: 2\n",
      "Try again! The number is a multiple of 3.\n",
      "Guess a number between 1 and 20: 10\n",
      "Try again! The number is a multiple of 3.\n",
      "Guess a number between 1 and 20: 30\n",
      "Try again! The number is even.\n",
      "Guess a number between 1 and 20: 2\n",
      "Try again! The number is a multiple of 3.\n"
     ]
    }
   ],
   "source": [
    "import random\n",
    "\n",
    "def number_guessing_game():\n",
    "  \"\"\"A number guessing game where the user selects a range and tries to guess a random integer in the minimum number of guesses.\"\"\"\n",
    "\n",
    "  # Get the range from the user\n",
    "  a = int(input(\"Enter the lower bound of the range: \"))\n",
    "  b = int(input(\"Enter the upper bound of the range: \"))\n",
    "\n",
    "  # Generate a random integer in the range\n",
    "  random_number = random.randint(a, b)\n",
    "\n",
    "  # Initialize the number of guesses\n",
    "  number_of_guesses = 0\n",
    "\n",
    "  # Start the game loop\n",
    "  while True:\n",
    "\n",
    "    # Get the user's guess\n",
    "    guess = int(input(\"Guess a number between {} and {}: \".format(a, b)))\n",
    "\n",
    "    # Check if the guess is correct\n",
    "    if guess == random_number:\n",
    "      print(\"Congratulations! You guessed the correct number in {} guesses.\".format(number_of_guesses))\n",
    "      break\n",
    "\n",
    "    # Give the user a hint if the guess is wrong\n",
    "    elif guess > random_number:\n",
    "      # Hint: the number is even\n",
    "      if random_number % 2 == 0:\n",
    "        print(\"Try again! The number is even.\")\n",
    "      # Hint: the number is divisible by a certain number\n",
    "      elif random_number % 4 == 0:\n",
    "        print(\"Try again! The number is divisible by 4.\")\n",
    "      else:\n",
    "        print(\"Try again! You guessed too high.\")\n",
    "      number_of_guesses += 1\n",
    "    elif guess < random_number:\n",
    "      # Hint: the number is odd\n",
    "      if random_number % 2 == 1:\n",
    "        print(\"Try again! The number is odd.\")\n",
    "      # Hint: the number is a multiple of a certain number\n",
    "      elif random_number % 3 == 0:\n",
    "        print(\"Try again! The number is a multiple of 3.\")\n",
    "      else:\n",
    "        print(\"Try again! You guessed too low.\")\n",
    "      number_of_guesses += 1\n",
    "\n",
    "    # If the user has used up all of their guesses, end the game\n",
    "    if number_of_guesses == 5:\n",
    "      print(\"Better luck next time!\")\n",
    "      break\n",
    "\n",
    "if __name__ == \"__main__\":\n",
    "  number_guessing_game()\n"
   ]
  },
  {
   "cell_type": "code",
   "execution_count": null,
   "id": "2f911da6",
   "metadata": {},
   "outputs": [],
   "source": []
  }
 ],
 "metadata": {
  "kernelspec": {
   "display_name": "Python 3 (ipykernel)",
   "language": "python",
   "name": "python3"
  },
  "language_info": {
   "codemirror_mode": {
    "name": "ipython",
    "version": 3
   },
   "file_extension": ".py",
   "mimetype": "text/x-python",
   "name": "python",
   "nbconvert_exporter": "python",
   "pygments_lexer": "ipython3",
   "version": "3.9.12"
  }
 },
 "nbformat": 4,
 "nbformat_minor": 5
}
